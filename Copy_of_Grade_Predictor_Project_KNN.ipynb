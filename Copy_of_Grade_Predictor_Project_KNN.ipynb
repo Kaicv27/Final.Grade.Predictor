{
  "nbformat": 4,
  "nbformat_minor": 0,
  "metadata": {
    "colab": {
      "provenance": [],
      "include_colab_link": true
    },
    "kernelspec": {
      "name": "python3",
      "display_name": "Python 3"
    },
    "language_info": {
      "name": "python"
    }
  },
  "cells": [
    {
      "cell_type": "markdown",
      "metadata": {
        "id": "view-in-github",
        "colab_type": "text"
      },
      "source": [
        "<a href=\"https://colab.research.google.com/github/Kaicv27/Final.Project.Kai.Steven/blob/main/Copy_of_Grade_Predictor_Project_KNN.ipynb\" target=\"_parent\"><img src=\"https://colab.research.google.com/assets/colab-badge.svg\" alt=\"Open In Colab\"/></a>"
      ]
    },
    {
      "cell_type": "code",
      "execution_count": null,
      "metadata": {
        "id": "Xx0QJHJsI3oq",
        "outputId": "bd6d13f7-1bae-4681-afb5-2f704d4cc046",
        "colab": {
          "base_uri": "https://localhost:8080/"
        }
      },
      "outputs": [
        {
          "output_type": "stream",
          "name": "stdout",
          "text": [
            "0.7684663242724122\n",
            "0.7795268146257297\n",
            "0.8558119817192961\n",
            "0.7766883166898201\n",
            "0.885239369738388\n",
            "0.8915076692854471\n",
            "0.9095468889814691\n",
            "0.8538615744731619\n",
            "0.7821411528247969\n",
            "0.8743173759237561\n",
            "0.8130926494989248\n",
            "0.9211842024445673\n",
            "0.882741201321192\n",
            "0.93163482590626\n",
            "0.8101874876476003\n",
            "0.8866421104987202\n",
            "0.8683771119668555\n",
            "0.838644182028439\n",
            "0.7985779565957218\n",
            "0.8301686039078946\n",
            "0.8206637365597131\n",
            "0.8540479984397319\n",
            "0.83462702597149\n",
            "0.6972784847191895\n",
            "0.672177772194261\n",
            "0.870139710471607\n",
            "0.8495686051139372\n",
            "0.8614494201902858\n",
            "0.924718670458275\n",
            "0.7278375595225755\n",
            "0.806822483772693\n",
            "0.8221152312452916\n",
            "0.8876476607390454\n",
            "0.7074122313170568\n",
            "0.9169866846982475\n",
            "0.9262163835320383\n",
            "0.8220575330279971\n",
            "0.8521399176954733\n",
            "0.8569651050814989\n",
            "0.8528830251829131\n",
            "0.8423215562472022\n",
            "0.9322473458140854\n",
            "0.8438660322791305\n",
            "0.8807636356166584\n",
            "0.8996179882999745\n",
            "0.8433420365535248\n",
            "0.8433942600609268\n",
            "0.8507538648558225\n",
            "0.8304672635872373\n",
            "0.8376267781342147\n",
            "0.7620812457877179\n",
            "0.8148649597336302\n",
            "0.890510885183963\n",
            "0.7996295762544502\n",
            "0.8138646351792778\n",
            "0.8017589543833975\n",
            "0.8865731312474324\n",
            "0.8480107286544479\n",
            "0.8747987253968075\n",
            "0.8566046562926181\n",
            "0.8923717427531844\n",
            "0.7652754320815492\n",
            "0.9061888878163533\n",
            "0.8070005935852238\n",
            "0.9081179426219476\n",
            "0.8368550950485403\n",
            "0.8808670760253259\n",
            "0.8767971382274848\n",
            "0.8230848902860995\n",
            "0.8453465434315225\n",
            "0.8969248235048093\n",
            "0.8441605169831015\n",
            "0.8893830006862418\n",
            "0.8605266220233373\n",
            "0.7922717872481376\n",
            "0.8972109827056993\n",
            "0.9041902900302339\n",
            "0.7630491078228987\n",
            "0.9237994608364979\n",
            "0.8618845489829562\n",
            "0.8602816630869436\n",
            "0.8277657614355524\n",
            "0.8742696298528031\n",
            "0.8435122923115239\n",
            "0.8257835947894427\n",
            "0.7911289073907479\n",
            "0.8272352454888778\n",
            "0.8610587989119063\n",
            "0.8412998891094959\n",
            "0.7724904198552127\n",
            "0.805238935127452\n",
            "0.8677519803816773\n",
            "0.7314574988559108\n",
            "0.9253327335254042\n",
            "0.8565583324717914\n",
            "0.8450850406669632\n",
            "0.9311867284397781\n",
            "0.7963517994429573\n",
            "0.7777803327610171\n",
            "0.9008175149019905\n",
            "The average accuracy is: 0.844129048813549\n",
            "The mean squared error is:  1.8496913580246919\n"
          ]
        }
      ],
      "source": [
        "#import libraries\n",
        "import pandas as pd\n",
        "from sklearn.model_selection import train_test_split\n",
        "from sklearn.neighbors import KNeighborsRegressor\n",
        "import plotly.express as px\n",
        "import matplotlib.pyplot as plt\n",
        "from sklearn.decomposition import PCA\n",
        "import seaborn as sns\n",
        "from sklearn.metrics import r2_score\n",
        "from sklearn.metrics import mean_squared_error\n",
        "import pickle\n",
        "\n",
        "data = pd.read_csv(\"student-mat2.csv\") #import the file\n",
        "data.head() #read and print out the first 5 rows of the file\n",
        "\n",
        "X = data[[\"age\", \"Medu\", \"Fedu\", \"traveltime\", \"studytime\", \"failures\", \"famrel\", \"freetime\", \"goout\", \"Dalc\", \"Walc\", \"health\", \"absences\",\"G1\", \"G2\"]]\n",
        "y = data[\"G3\"]\n",
        "\n",
        "best = 0\n",
        "acc_total = 0\n",
        "train_time = 100\n",
        "for result in range(train_time):\n",
        "\n",
        "  X_train, X_test, y_train, y_test = train_test_split(X, y, test_size = 0.1)\n",
        "\n",
        "  clf = KNeighborsRegressor(9)\n",
        "  clf.fit(X_train, y_train)\n",
        "\n",
        "  # print(X_test, type(X_test))\n",
        "  y_pred = clf.predict(X_test)\n",
        "  acc = clf.score(X_test, y_test)\n",
        "\n",
        "  print(acc)\n",
        "  acc_total += acc\n",
        "\n",
        "  if acc > best:\n",
        "    best = acc\n",
        "    import joblib\n",
        "    joblib.dump(clf, \"final_knn_model.pkl\")\n",
        "    with open(\"final_knn_model.pickle\", \"wb\") as f:\n",
        "      pickle.dump(KNeighborsRegressor, f) #save a pickle file\n",
        "\n",
        "pickle_in = open(\"final_knn_model.pickle\", \"rb\")\n",
        "KNeighborsRegressor = pickle.load(pickle_in)\n",
        "\n",
        "print('The average accuracy is: ' + str(acc_total/train_time))\n",
        "print(\"The mean squared error is: \", mean_squared_error(y_test, y_pred))\n",
        "\n"
      ]
    },
    {
      "cell_type": "code",
      "source": [
        "import numpy as np\n",
        "clf2 = joblib.load(\"model.pkl\")\n",
        "a = [[1.0, 1.0, 1.0, 1.0, 1.0, 1.0, 1.0, 1.0, 1.0, 1.0, 1.0, 1.0, 1.0, 1.0, 1.0, 1.0]]\n",
        "a = np.array(a)\n",
        "df = pd.DataFrame(np.array(a), columns = [\"age\", \"Medu\", \"Fedu\", \"traveltime\", \"studytime\", \"failures\", \"famrel\", \"freetime\", \"goout\", \"Dalc\", \"Walc\", \"health\", \"absences\",\"G1\", \"G2\", \"G3\"])\n",
        "y_pred = clf2.predict(df)\n",
        "y_pred"
      ],
      "metadata": {
        "colab": {
          "base_uri": "https://localhost:8080/"
        },
        "id": "pXLhG3flwza5",
        "outputId": "864fbf47-1c0a-4a97-aefc-9201abb62f32"
      },
      "execution_count": null,
      "outputs": [
        {
          "output_type": "execute_result",
          "data": {
            "text/plain": [
              "array([0.55555556])"
            ]
          },
          "metadata": {},
          "execution_count": 26
        }
      ]
    },
    {
      "cell_type": "code",
      "source": [
        "# plot graph\n",
        "plt.figure(figsize=(5, 7))\n",
        "\n",
        "ax = sns.distplot(y, hist=False, color=\"r\", label=\"Actual Value\")\n",
        "sns.distplot(y_pred, hist=False, color=\"b\", label=\"Fitted Values\" , ax=ax)\n",
        "\n",
        "plt.title('Actual vs Fitted Values for G3')\n",
        "\n",
        "plt.show()\n",
        "plt.close()"
      ],
      "metadata": {
        "id": "-bSnn1HufEVB",
        "outputId": "f428497f-a11c-421a-dc34-1875bd1de44d",
        "colab": {
          "base_uri": "https://localhost:8080/",
          "height": 1000
        }
      },
      "execution_count": null,
      "outputs": [
        {
          "output_type": "stream",
          "name": "stderr",
          "text": [
            "<ipython-input-3-1d019d40e2d8>:4: UserWarning: \n",
            "\n",
            "`distplot` is a deprecated function and will be removed in seaborn v0.14.0.\n",
            "\n",
            "Please adapt your code to use either `displot` (a figure-level function with\n",
            "similar flexibility) or `kdeplot` (an axes-level function for kernel density plots).\n",
            "\n",
            "For a guide to updating your code to use the new functions, please see\n",
            "https://gist.github.com/mwaskom/de44147ed2974457ad6372750bbe5751\n",
            "\n",
            "  ax = sns.distplot(y, hist=False, color=\"r\", label=\"Actual Value\")\n",
            "<ipython-input-3-1d019d40e2d8>:5: UserWarning: \n",
            "\n",
            "`distplot` is a deprecated function and will be removed in seaborn v0.14.0.\n",
            "\n",
            "Please adapt your code to use either `displot` (a figure-level function with\n",
            "similar flexibility) or `kdeplot` (an axes-level function for kernel density plots).\n",
            "\n",
            "For a guide to updating your code to use the new functions, please see\n",
            "https://gist.github.com/mwaskom/de44147ed2974457ad6372750bbe5751\n",
            "\n",
            "  sns.distplot(y_pred, hist=False, color=\"b\", label=\"Fitted Values\" , ax=ax)\n"
          ]
        },
        {
          "output_type": "display_data",
          "data": {
            "text/plain": [
              "<Figure size 500x700 with 1 Axes>"
            ],
            "image/png": "[encoded data removed]"
          },
          "metadata": {}
        }
      ]
    }
  ]
}